{
  "nbformat": 4,
  "nbformat_minor": 0,
  "metadata": {
    "colab": {
      "provenance": []
    },
    "kernelspec": {
      "name": "python3",
      "display_name": "Python 3"
    },
    "language_info": {
      "name": "python"
    }
  },
  "cells": [
    {
      "cell_type": "code",
      "execution_count": null,
      "metadata": {
        "colab": {
          "base_uri": "https://localhost:8080/"
        },
        "id": "Hp1ZQ3spjMDz",
        "outputId": "47dd389a-f2bc-4f02-b0ca-4195364897d5"
      },
      "outputs": [
        {
          "output_type": "stream",
          "name": "stdout",
          "text": [
            "Predicted Label: A\n"
          ]
        }
      ],
      "source": [
        "import numpy as np\n",
        "\n",
        "# Define the dataset\n",
        "data = [\n",
        "    ['00101', 'A'],\n",
        "    ['10111', 'A'],\n",
        "    ['11010', 'B'],\n",
        "    ['01100', 'B'],\n",
        "    ['00111', 'A'],\n",
        "    ['11100', 'B']\n",
        "]\n",
        "\n",
        "# Separate features and labels\n",
        "features = np.array([row[:-1] for row in data])\n",
        "labels = np.array([row[-1] for row in data])\n",
        "\n",
        "# Define function to calculate Hamming distance\n",
        "def hamming_distance(instance1, instance2):\n",
        "    distance = sum(el1 != el2 for el1, el2 in zip(instance1, instance2))\n",
        "    return distance\n",
        "\n",
        "# Define function to classify new instance using KNN\n",
        "def knn_classify(k, train_features, train_labels, test_instance):\n",
        "    distances = []\n",
        "    # Calculate Hamming distance between test instance and each training instance\n",
        "    for i in range(len(train_features)):\n",
        "        dist = hamming_distance(train_features[i], test_instance)\n",
        "        distances.append((dist, train_labels[i]))\n",
        "    # Sort distances in ascending order\n",
        "    distances.sort(key=lambda x: x[0])\n",
        "    # Select k nearest neighbors\n",
        "    k_nearest = distances[:k]\n",
        "    labels = [neighbor[1] for neighbor in k_nearest]\n",
        "    # Perform majority voting to determine predicted label\n",
        "    majority_vote = max(set(labels), key=labels.count)\n",
        "    return majority_vote\n",
        "\n",
        "# Test the KNN classifier\n",
        "k = 2\n",
        "test_instance = '00110'\n",
        "# test_instance = np.array(['Small', 'Red', 'Circle'])\n",
        "predicted_label = knn_classify(k, features, labels, test_instance)\n",
        "print(\"Predicted Label:\", predicted_label)\n"
      ]
    },
    {
      "cell_type": "code",
      "source": [
        "import numpy as np\n",
        "\n",
        "# Define the dataset\n",
        "data = np.array([\n",
        "    ['<=30', 'High', 'No', 'Fair', 'No'],\n",
        "    ['<=30', 'High', 'No', 'Excellent', 'No'],\n",
        "    ['31-40', 'High', 'No', 'Fair', 'Yes'],\n",
        "    ['>40', 'Medium', 'No', 'Fair', 'Yes'],\n",
        "    ['>40', 'Low', 'Yes', 'Fair', 'Yes'],\n",
        "    ['>40', 'Low', 'Yes', 'Excellent', 'No'],\n",
        "    ['31-40', 'Low', 'Yes', 'Excellent', 'Yes'],\n",
        "    ['<=30', 'Medium', 'No', 'Fair', 'No'],\n",
        "    ['<=30', 'Low', 'Yes', 'Fair', 'Yes'],\n",
        "    ['>40', 'Medium', 'Yes', 'Fair', 'Yes'],\n",
        "    ['<=30', 'Medium', 'Yes', 'Excellent', 'Yes'],\n",
        "    ['31-40', 'Medium', 'No', 'Excellent', 'Yes'],\n",
        "    ['31-40', 'High', 'Yes', 'Fair', 'Yes'],\n",
        "    ['>40', 'Medium', 'No', 'Excellent', 'No']\n",
        "])\n",
        "\n",
        "# Separate features and labels\n",
        "features = data[:, :-1]\n",
        "labels = data[:, -1]\n",
        "\n",
        "# Define test instance\n",
        "test_instance = ['<=30', 'Medium', 'Yes', 'Fair']\n",
        "\n",
        "# Define function to calculate Hamming distance\n",
        "def hamming_distance(instance1, instance2):\n",
        "    distance = sum(el1 != el2 for el1, el2 in zip(instance1, instance2))\n",
        "    return distance\n",
        "\n",
        "# Define function to classify new instance using KNN\n",
        "def knn_classify(k, train_features, train_labels, test_instance):\n",
        "    distances = []\n",
        "    # Calculate Hamming distance between test instance and each training instance\n",
        "    for i in range(len(train_features)):\n",
        "        dist = hamming_distance(train_features[i], test_instance)\n",
        "        distances.append((dist, train_labels[i]))\n",
        "    # Sort distances in ascending order\n",
        "    distances.sort(key=lambda x: x[0])\n",
        "    # Select k nearest neighbors\n",
        "    k_nearest = distances[:k]\n",
        "    labels = [neighbor[1] for neighbor in k_nearest]\n",
        "    # Perform majority voting to determine predicted label\n",
        "    majority_vote = max(set(labels), key=labels.count)\n",
        "    return majority_vote\n",
        "\n",
        "# Test the KNN classifier\n",
        "k = 3\n",
        "predicted_label = knn_classify(k, features, labels, test_instance)\n",
        "print(\"Predicted Label:\", predicted_label)"
      ],
      "metadata": {
        "colab": {
          "base_uri": "https://localhost:8080/"
        },
        "id": "8kEi9-vVj6LB",
        "outputId": "c249ec15-a0c7-4c12-afbb-450e76c108bb"
      },
      "execution_count": null,
      "outputs": [
        {
          "output_type": "stream",
          "name": "stdout",
          "text": [
            "Predicted Label: Yes\n"
          ]
        }
      ]
    },
    {
      "cell_type": "code",
      "source": [
        "from sklearn.neighbors import KNeighborsClassifier\n",
        "from sklearn.preprocessing import OrdinalEncoder\n",
        "\n",
        "# Define the dataset\n",
        "data = [\n",
        "    ['<=30', 'High', 'No', 'Fair', 'No'],\n",
        "    ['<=30', 'High', 'No', 'Excellent', 'No'],\n",
        "    ['31-40', 'High', 'No', 'Fair', 'Yes'],\n",
        "    ['>40', 'Medium', 'No', 'Fair', 'Yes'],\n",
        "    ['>40', 'Low', 'Yes', 'Fair', 'Yes'],\n",
        "    ['>40', 'Low', 'Yes', 'Excellent', 'No'],\n",
        "    ['31-40', 'Low', 'Yes', 'Excellent', 'Yes'],\n",
        "    ['<=30', 'Medium', 'No', 'Fair', 'No'],\n",
        "    ['<=30', 'Low', 'Yes', 'Fair', 'Yes'],\n",
        "    ['>40', 'Medium', 'Yes', 'Fair', 'Yes'],\n",
        "    ['<=30', 'Medium', 'Yes', 'Excellent', 'Yes'],\n",
        "    ['31-40', 'Medium', 'No', 'Excellent', 'Yes'],\n",
        "    ['31-40', 'High', 'Yes', 'Fair', 'Yes'],\n",
        "    ['>40', 'Medium', 'No', 'Excellent', 'No']\n",
        "]\n",
        "\n",
        "# Separate features and labels\n",
        "features = [row[:-1] for row in data]\n",
        "labels = [row[-1] for row in data]\n",
        "\n",
        "# Encode categorical features using OrdinalEncoder\n",
        "encoder = OrdinalEncoder()\n",
        "features_encoded = encoder.fit_transform(features)\n",
        "\n",
        "# Define the KNN classifier\n",
        "k = 3\n",
        "knn = KNeighborsClassifier(n_neighbors=k)\n",
        "\n",
        "# Fit the classifier to the training data\n",
        "knn.fit(features_encoded, labels)\n",
        "\n",
        "# Define the test instance\n",
        "test_instance = [['<=30', 'Medium', 'Yes', 'Fair']]\n",
        "\n",
        "# Encode the test instance using the fitted encoder\n",
        "test_instance_encoded = encoder.transform(test_instance)\n",
        "\n",
        "# Predict the class label for the test instance\n",
        "predicted_label = knn.predict(test_instance_encoded)\n",
        "\n",
        "print(\"Predicted Label:\", predicted_label[0])\n"
      ],
      "metadata": {
        "id": "c6mWXWbGl4hj",
        "colab": {
          "base_uri": "https://localhost:8080/"
        },
        "outputId": "84b7ae73-d869-4c31-a379-5ed7a6bf8aaa"
      },
      "execution_count": null,
      "outputs": [
        {
          "output_type": "stream",
          "name": "stdout",
          "text": [
            "Predicted Label: Yes\n"
          ]
        }
      ]
    },
    {
      "cell_type": "code",
      "source": [
        "import numpy as np\n",
        "\n",
        "# Define the dataset\n",
        "data = [\n",
        "    ['Small', 'Green', 'Irregular', 'No'],\n",
        "    ['Large', 'Red', 'Irregular', 'Yes'],\n",
        "    ['Large', 'Red', 'Circle', 'Yes'],\n",
        "    ['Large', 'Green', 'Circle', 'No'],\n",
        "    ['Large', 'Green', 'Irregular', 'No'],\n",
        "    ['Small', 'Red', 'Circle', 'Yes'],\n",
        "    ['Large', 'Green', 'Irregular', 'No'],\n",
        "    ['Small', 'Red', 'Irregular', 'No'],\n",
        "    ['Small', 'Green', 'Circle', 'No'],\n",
        "    ['Large', 'Red', 'Circle', 'Yes']\n",
        "]\n",
        "\n",
        "# Separate features and labels\n",
        "features = np.array([row[:-1] for row in data])\n",
        "labels = np.array([row[-1] for row in data])\n",
        "\n",
        "# Define function to calculate Hamming distance\n",
        "def hamming_distance(instance1, instance2):\n",
        "    distance = sum(el1 != el2 for el1, el2 in zip(instance1, instance2))\n",
        "    return distance\n",
        "\n",
        "# Define function to classify new instance using KNN\n",
        "def knn_classify(k, train_features, train_labels, test_instance):\n",
        "    distances = []\n",
        "    # Calculate Hamming distance between test instance and each training instance\n",
        "    for i in range(len(train_features)):\n",
        "        dist = hamming_distance(train_features[i], test_instance)\n",
        "        distances.append((dist, train_labels[i]))\n",
        "    # Sort distances in ascending order\n",
        "    distances.sort(key=lambda x: x[0])\n",
        "    # Select k nearest neighbors\n",
        "    k_nearest = distances[:k]\n",
        "    labels = [neighbor[1] for neighbor in k_nearest]\n",
        "    # Perform majority voting to determine predicted label\n",
        "    majority_vote = max(set(labels), key=labels.count)\n",
        "    return majority_vote\n",
        "\n",
        "# Test the KNN classifier\n",
        "k = 3\n",
        "test_instance = np.array(['Small', 'Red', 'Circle'])\n",
        "predicted_label = knn_classify(k, features, labels, test_instance)\n",
        "print(\"Predicted Label:\", predicted_label)\n"
      ],
      "metadata": {
        "colab": {
          "base_uri": "https://localhost:8080/"
        },
        "id": "f_5vyMTlCKbD",
        "outputId": "65f3e36a-d5e6-4c25-8c89-aff2d7188ecd"
      },
      "execution_count": null,
      "outputs": [
        {
          "output_type": "stream",
          "name": "stdout",
          "text": [
            "Predicted Label: Yes\n"
          ]
        }
      ]
    },
    {
      "cell_type": "code",
      "source": [],
      "metadata": {
        "id": "x0mnj13LCeiP"
      },
      "execution_count": null,
      "outputs": []
    }
  ]
}