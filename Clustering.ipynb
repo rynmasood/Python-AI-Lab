{
  "nbformat": 4,
  "nbformat_minor": 0,
  "metadata": {
    "colab": {
      "provenance": []
    },
    "kernelspec": {
      "name": "python3",
      "display_name": "Python 3"
    },
    "language_info": {
      "name": "python"
    }
  },
  "cells": [
    {
      "cell_type": "code",
      "execution_count": 2,
      "metadata": {
        "colab": {
          "base_uri": "https://localhost:8080/"
        },
        "id": "GxhZtNVibwDL",
        "outputId": "b08fbc9c-e693-47c0-b9b5-c12c482de179"
      },
      "outputs": [
        {
          "output_type": "stream",
          "name": "stdout",
          "text": [
            "Cluster 1 points: [[1 4]\n",
            " [4 2]\n",
            " [4 4]]\n",
            "Cluster 1 centroid: [3.         3.33333333]\n",
            "\n",
            "Cluster 2 points: [[1 2]\n",
            " [1 0]\n",
            " [4 0]]\n",
            "Cluster 2 centroid: [2.         0.66666667]\n",
            "\n"
          ]
        },
        {
          "output_type": "stream",
          "name": "stderr",
          "text": [
            "/usr/local/lib/python3.10/dist-packages/sklearn/cluster/_kmeans.py:870: FutureWarning: The default value of `n_init` will change from 10 to 'auto' in 1.4. Set the value of `n_init` explicitly to suppress the warning\n",
            "  warnings.warn(\n"
          ]
        }
      ],
      "source": [
        "import numpy as np\n",
        "from sklearn.cluster import KMeans\n",
        "\n",
        "# Sample dataset\n",
        "X = np.array([[1, 2], [1, 4], [1, 0], [4, 2], [4, 4], [4, 0]])\n",
        "\n",
        "# Number of clusters\n",
        "k = 2\n",
        "\n",
        "# Initialize KMeans object\n",
        "kmeans = KMeans(n_clusters=k)\n",
        "\n",
        "# Fit the model to the data\n",
        "kmeans.fit(X)\n",
        "\n",
        "# Predict the cluster labels\n",
        "labels = kmeans.labels_\n",
        "\n",
        "# Get the cluster centroids\n",
        "centroids = kmeans.cluster_centers_\n",
        "\n",
        "# Print the cluster labels and centroids\n",
        "for i in range(k):\n",
        "    cluster_points = X[labels == i]\n",
        "    cluster_centroid = centroids[i]\n",
        "    print(f\"Cluster {i+1} points: {cluster_points}\")\n",
        "    print(f\"Cluster {i+1} centroid: {cluster_centroid}\")\n",
        "    print()"
      ]
    },
    {
      "cell_type": "code",
      "source": [
        "from sklearn.cluster import AgglomerativeClustering\n",
        "import numpy as np\n",
        "\n",
        "# Create a sample dataset\n",
        "data = np.array([[1, 2], [1, 4], [1, 0], [4, 2], [4, 4], [4, 0]])\n",
        "\n",
        "# Create an instance of AgglomerativeClustering\n",
        "# You can specify the number of clusters using the 'n_clusters' parameter\n",
        "# and the linkage criterion using the 'linkage' parameter (default is 'ward')\n",
        "clustering = AgglomerativeClustering(n_clusters=2)\n",
        "\n",
        "# Fit the data to the model\n",
        "clustering.fit(data)\n",
        "\n",
        "# Access the labels assigned to each data point\n",
        "labels = clustering.labels_\n",
        "\n",
        "# Print the labels\n",
        "print(labels)\n"
      ],
      "metadata": {
        "colab": {
          "base_uri": "https://localhost:8080/"
        },
        "id": "Aj5QRaOhbxnV",
        "outputId": "7f5404fc-c558-4806-f413-a56b424d780f"
      },
      "execution_count": 3,
      "outputs": [
        {
          "output_type": "stream",
          "name": "stdout",
          "text": [
            "[1 1 1 0 0 0]\n"
          ]
        }
      ]
    },
    {
      "cell_type": "code",
      "source": [
        "import numpy as np\n",
        "from sklearn.cluster import AgglomerativeClustering\n",
        "from sklearn.metrics import silhouette_score\n",
        "from scipy.cluster.hierarchy import dendrogram, linkage\n",
        "import matplotlib.pyplot as plt\n",
        "\n",
        "# Create a sample dataset\n",
        "data = np.array([[1, 2], [1, 4], [1, 0], [4, 2], [4, 4], [4, 0]])\n",
        "\n",
        "# Create an instance of AgglomerativeClustering\n",
        "clustering = AgglomerativeClustering(n_clusters=2)\n",
        "\n",
        "# Fit the data to the model\n",
        "clustering.fit(data)\n",
        "\n",
        "# Access the labels assigned to each data point\n",
        "labels = clustering.labels_\n",
        "\n",
        "# Calculate the silhouette score\n",
        "silhouette_avg = silhouette_score(data, labels)\n",
        "\n",
        "# Generate the linkage matrix\n",
        "linkage_matrix = linkage(data, method='ward')\n",
        "\n",
        "# Plot the dendrogram\n",
        "plt.figure(figsize=(8, 6))\n",
        "dendrogram(linkage_matrix)\n",
        "plt.title('Dendrogram')\n",
        "plt.xlabel('Data points')\n",
        "plt.ylabel('Distance')\n",
        "plt.show()\n",
        "\n",
        "# Print the silhouette score\n",
        "print(\"Silhouette score:\", silhouette_avg)\n"
      ],
      "metadata": {
        "colab": {
          "base_uri": "https://localhost:8080/",
          "height": 585
        },
        "id": "tUCKd8umdM-i",
        "outputId": "ae2d1533-07e8-460a-bbbb-90025e4f4466"
      },
      "execution_count": 4,
      "outputs": [
        {
          "output_type": "display_data",
          "data": {
            "text/plain": [
              "<Figure size 800x600 with 1 Axes>"
            ],
            "image/png": "[encoded data removed]"
          },
          "metadata": {}
        },
        {
          "output_type": "stream",
          "name": "stdout",
          "text": [
            "Silhouette score: 0.2871407974806454\n"
          ]
        }
      ]
    },
    {
      "cell_type": "code",
      "source": [],
      "metadata": {
        "id": "dzDW-FwfdnZT"
      },
      "execution_count": null,
      "outputs": []
    }
  ]
}